{
  "nbformat": 4,
  "nbformat_minor": 0,
  "metadata": {
    "colab": {
      "name": "Untitled0.ipynb",
      "provenance": [],
      "include_colab_link": true
    },
    "kernelspec": {
      "name": "python3",
      "display_name": "Python 3"
    }
  },
  "cells": [
    {
      "cell_type": "markdown",
      "metadata": {
        "id": "view-in-github",
        "colab_type": "text"
      },
      "source": [
        "<a href=\"https://colab.research.google.com/github/a78787824/-Course-Homework-/blob/master/Untitled0.ipynb\" target=\"_parent\"><img src=\"https://colab.research.google.com/assets/colab-badge.svg\" alt=\"Open In Colab\"/></a>"
      ]
    },
    {
      "cell_type": "code",
      "metadata": {
        "id": "tQZkR0WvOVYL",
        "colab_type": "code",
        "colab": {
          "base_uri": "https://localhost:8080/",
          "height": 102
        },
        "outputId": "27866d6e-6c4a-4ff4-c00e-d073577565d7"
      },
      "source": [
        "player = \"Ron Harper\"\n",
        "player_list = [\"Ron Harper\", \"Michael Jordan\", \"Scottie Pippen\", \"Dennis Rodman\"\n",
        "               \"Luc Longley\"]\n",
        "player_tuple = tuple(player_list)\n",
        "player_dict = {\n",
        " \"PG\": \"Ron Harper\",\n",
        " \"SG\": \"Michael Jordan\",\n",
        " \"SF\": \"Scottie Pippen\",\n",
        " \"PF\": \"Dennis Rodman\",\n",
        " \"C\": \"Luc Longley\"\n",
        "}\n",
        "player_set = set(player_list)\n",
        "print(type(player))\n",
        "print(type(player_list))\n",
        "print(type(player_tuple))\n",
        "print(type(player_dict))\n",
        "print(type(player_set))"
      ],
      "execution_count": 33,
      "outputs": [
        {
          "output_type": "stream",
          "text": [
            "<class 'str'>\n",
            "<class 'list'>\n",
            "<class 'tuple'>\n",
            "<class 'dict'>\n",
            "<class 'set'>\n"
          ],
          "name": "stdout"
        }
      ]
    },
    {
      "cell_type": "markdown",
      "metadata": {
        "id": "hcT48AI2YicU",
        "colab_type": "text"
      },
      "source": [
        ""
      ]
    },
    {
      "cell_type": "code",
      "metadata": {
        "id": "157Ufh0GTZGE",
        "colab_type": "code",
        "colab": {
          "base_uri": "https://localhost:8080/",
          "height": 153
        },
        "outputId": "4dca9f2d-b3f1-4fe4-b87c-0d4b99c96689"
      },
      "source": [
        "s1 = '春眠不覺曉，處處聞啼鳥。'\n",
        "print(s1)\n",
        "s2 = \"夜來風雨聲，花落知多少。\"\n",
        "print(s2)\n",
        "s3 = '作者\"孟浩然\" 詩名\"春曉\"'\n",
        "print(s3)\n",
        "s4 = \"作者'孟浩然' 詩名'春曉'\"\n",
        "print(s4)\n",
        "s5 = ''' 春眠不覺曉，處處聞啼鳥。\n",
        " 夜來風雨聲，花落知多少。\n",
        " 作者\"孟浩然\" 詩名\"春曉\"\n",
        "'''\n",
        "print(s5)\n"
      ],
      "execution_count": 34,
      "outputs": [
        {
          "output_type": "stream",
          "text": [
            "春眠不覺曉，處處聞啼鳥。\n",
            "夜來風雨聲，花落知多少。\n",
            "作者\"孟浩然\" 詩名\"春曉\"\n",
            "作者'孟浩然' 詩名'春曉'\n",
            " 春眠不覺曉，處處聞啼鳥。\n",
            " 夜來風雨聲，花落知多少。\n",
            " 作者\"孟浩然\" 詩名\"春曉\"\n",
            "\n"
          ],
          "name": "stdout"
        }
      ]
    },
    {
      "cell_type": "code",
      "metadata": {
        "id": "2TjYzMB1Tej4",
        "colab_type": "code",
        "colab": {
          "base_uri": "https://localhost:8080/",
          "height": 102
        },
        "outputId": "90b057c1-5697-4326-e14f-21ba0a461d05"
      },
      "source": [
        "s1 =\"123\"\n",
        "s2 = \"456\"\n",
        "s3 = s1 + s2 #字串連接\n",
        "print(s3)\n",
        "s4 = s1 * 2 # 複製字串\n",
        "print(s4)\n",
        "#多行\n",
        "s5 = '春眠不覺曉，處處聞啼鳥。\\n\\\n",
        "夜來風雨聲，花落知多少。\\n\\\n",
        "\\t作者\"孟浩然\" 詩名\"春曉\"'\n",
        "print(s5)"
      ],
      "execution_count": 13,
      "outputs": [
        {
          "output_type": "stream",
          "text": [
            "123456\n",
            "123123\n",
            "春眠不覺曉，處處聞啼鳥。\n",
            "夜來風雨聲，花落知多少。\n",
            "\t作者\"孟浩然\" 詩名\"春曉\"\n"
          ],
          "name": "stdout"
        }
      ]
    },
    {
      "cell_type": "code",
      "metadata": {
        "id": "1LD7YIsFTh_W",
        "colab_type": "code",
        "colab": {
          "base_uri": "https://localhost:8080/",
          "height": 170
        },
        "outputId": "8831bf8b-fbb6-4602-d11a-35bc7f76ea7d"
      },
      "source": [
        "s = '123456789'\n",
        "print(s[0]) #位置索引從0開始，不是1開始\n",
        "print(s[1])\n",
        "print(s[-1]) #從右到左倒過來的第一個位置，加負號\n",
        "print(s[-2])\n",
        "s = '0123456789'\n",
        "print('s=', s)\n",
        "print('s[0]=', s[0])\n",
        "print('s[1]=', s[1])\n",
        "print('s[-1]=', s[-1])\n",
        "print('s[-2]=', s[-2])"
      ],
      "execution_count": 14,
      "outputs": [
        {
          "output_type": "stream",
          "text": [
            "1\n",
            "2\n",
            "9\n",
            "8\n",
            "s= 0123456789\n",
            "s[0]= 0\n",
            "s[1]= 1\n",
            "s[-1]= 9\n",
            "s[-2]= 8\n"
          ],
          "name": "stdout"
        }
      ]
    },
    {
      "cell_type": "code",
      "metadata": {
        "id": "KKVhtKjeTlLs",
        "colab_type": "code",
        "colab": {
          "base_uri": "https://localhost:8080/",
          "height": 204
        },
        "outputId": "b18d3d02-d4e8-46ce-8ca7-9c9f3cd272d3"
      },
      "source": [
        "print('s=', s, 's[:]=', s[:]) #從頭到尾\n",
        "print('s=', s, 's[5:]=', s[5:]) #到尾\n",
        "print('s=', s, 's[-2:]=', s[-2:])\n",
        "print('s=', s, 's[:5]=', s[:5]) #從頭\n",
        "print('s=', s, 's[:-2]=', s[:-2])\n",
        "print('s=', s, 's[7:9]=', s[7:9])# 範圍\n",
        "print('s=', s, 's[-4:-1]=', s[-4:-1])\n",
        "print('s=', s, 's[5:-2]=', s[5:-2])\n",
        "print('s=', s, 's[2:10:2]=', s[2:10:2])\n",
        "print('s=', s, 's[::-1]=', s[::-1])\n",
        "print('s=', s, 's[-1::-1]=', s[-1::-1])"
      ],
      "execution_count": 15,
      "outputs": [
        {
          "output_type": "stream",
          "text": [
            "s= 0123456789 s[:]= 0123456789\n",
            "s= 0123456789 s[5:]= 56789\n",
            "s= 0123456789 s[-2:]= 89\n",
            "s= 0123456789 s[:5]= 01234\n",
            "s= 0123456789 s[:-2]= 01234567\n",
            "s= 0123456789 s[7:9]= 78\n",
            "s= 0123456789 s[-4:-1]= 678\n",
            "s= 0123456789 s[5:-2]= 567\n",
            "s= 0123456789 s[2:10:2]= 2468\n",
            "s= 0123456789 s[::-1]= 9876543210\n",
            "s= 0123456789 s[-1::-1]= 9876543210\n"
          ],
          "name": "stdout"
        }
      ]
    },
    {
      "cell_type": "code",
      "metadata": {
        "id": "oib6nWC9Tqhy",
        "colab_type": "code",
        "colab": {
          "base_uri": "https://localhost:8080/",
          "height": 68
        },
        "outputId": "d29b0e1a-14e9-49b8-a0ef-1ac840df90f5"
      },
      "source": [
        "s = '春眠不覺曉，處處聞啼鳥，夜來風雨聲，花落知多少。'\n",
        "print(len(s))\n",
        "s1='春眠不覺曉，處處聞啼鳥，夜來風雨聲，花落知多少。'\n",
        "list1=s1.split('，') #以逗號，分割字串\n",
        "print(list1)\n",
        "list1 = ['春眠不覺曉','處處聞啼鳥','夜來風雨聲','花落知多少。']\n",
        "s2='，'.join(list1) #以逗號，連接字串\n",
        "print(s2)\n"
      ],
      "execution_count": 16,
      "outputs": [
        {
          "output_type": "stream",
          "text": [
            "24\n",
            "['春眠不覺曉', '處處聞啼鳥', '夜來風雨聲', '花落知多少。']\n",
            "春眠不覺曉，處處聞啼鳥，夜來風雨聲，花落知多少。\n"
          ],
          "name": "stdout"
        }
      ]
    },
    {
      "cell_type": "code",
      "metadata": {
        "id": "LDhKpObiTsBS",
        "colab_type": "code",
        "colab": {
          "base_uri": "https://localhost:8080/",
          "height": 68
        },
        "outputId": "5e87d796-aa1a-4dfb-fa38-62b447d3d41c"
      },
      "source": [
        "s1='春眠不覺曉，處處聞啼鳥，夜來風雨聲，花落知多少。'\n",
        "print(s1.find('花落')) #尋找\n",
        "print(s1.count('處')) #計次\n",
        "s3=s1.replace('春','冬') #以冬替代春（冬眠不覺曉）\n",
        "print(s3)"
      ],
      "execution_count": 17,
      "outputs": [
        {
          "output_type": "stream",
          "text": [
            "18\n",
            "2\n",
            "冬眠不覺曉，處處聞啼鳥，夜來風雨聲，花落知多少。\n"
          ],
          "name": "stdout"
        }
      ]
    },
    {
      "cell_type": "code",
      "metadata": {
        "id": "_OX_L9AATxXf",
        "colab_type": "code",
        "colab": {
          "base_uri": "https://localhost:8080/",
          "height": 102
        },
        "outputId": "134102b0-a5d1-43a3-abad-09f56eca76d8"
      },
      "source": [
        "s1='An apple a day.'\n",
        "print(s1.capitalize())\n",
        "print(s1.title())\n",
        "print(s1.swapcase())\n",
        "print(s1.upper())\n",
        "print(s1.lower())"
      ],
      "execution_count": 18,
      "outputs": [
        {
          "output_type": "stream",
          "text": [
            "An apple a day.\n",
            "An Apple A Day.\n",
            "aN APPLE A DAY.\n",
            "AN APPLE A DAY.\n",
            "an apple a day.\n"
          ],
          "name": "stdout"
        }
      ]
    },
    {
      "cell_type": "code",
      "metadata": {
        "id": "Moyr_ubYTzyd",
        "colab_type": "code",
        "colab": {
          "base_uri": "https://localhost:8080/",
          "height": 170
        },
        "outputId": "6da98edc-2901-4604-dae4-948b549a90d5"
      },
      "source": [
        "s1='春眠不覺曉，處處聞啼鳥，夜來風雨聲，花落知多少。'\n",
        "print(s1.startswith('春眠'))\n",
        "print(s1.endswith('多少。'))\n",
        "s1='春眠不覺曉'\n",
        "print(s1.center(10))\n",
        "print(s1.rjust(10))\n",
        "print(s1.ljust(10))\n",
        "s1='123'\n",
        "print(s1.zfill(5))\n",
        "s1=' Hello,Mary. '\n",
        "print(s1.strip())\n",
        "print(s1.lstrip(' H'))\n",
        "print(s1.rstrip(' .'))"
      ],
      "execution_count": 19,
      "outputs": [
        {
          "output_type": "stream",
          "text": [
            "True\n",
            "True\n",
            "  春眠不覺曉   \n",
            "     春眠不覺曉\n",
            "春眠不覺曉     \n",
            "00123\n",
            "Hello,Mary.\n",
            "ello,Mary. \n",
            " Hello,Mary\n"
          ],
          "name": "stdout"
        }
      ]
    },
    {
      "cell_type": "code",
      "metadata": {
        "id": "5qvw06CpWbcj",
        "colab_type": "code",
        "colab": {
          "base_uri": "https://localhost:8080/",
          "height": 119
        },
        "outputId": "7a9c17bd-d6b4-4d0b-ee4d-9169cdb629b6"
      },
      "source": [
        "t1 = ()\n",
        "print(t1)\n",
        "t2 = 1, 2 ,3 \n",
        "print(t2)\n",
        "t3 = (1, 2, 3) \n",
        "print(t3)\n",
        "list1=[1,2,3,4] \n",
        "t4 = tuple(list1) \n",
        "print(t4)\n",
        "t4 = (1,2,3,4) \n",
        "t5 = (t4,5,6)\n",
        "print(t5)\n",
        "t6 = ('z', ) \n",
        "print(t6)"
      ],
      "execution_count": 24,
      "outputs": [
        {
          "output_type": "stream",
          "text": [
            "()\n",
            "(1, 2, 3)\n",
            "(1, 2, 3)\n",
            "(1, 2, 3, 4)\n",
            "((1, 2, 3, 4), 5, 6)\n",
            "('z',)\n"
          ],
          "name": "stdout"
        }
      ]
    },
    {
      "cell_type": "code",
      "metadata": {
        "id": "eufaDUVcbrSw",
        "colab_type": "code",
        "colab": {
          "base_uri": "https://localhost:8080/",
          "height": 68
        },
        "outputId": "998fe841-ef0d-44ee-ccdb-1e91bce39692"
      },
      "source": [
        "t3 = (1, 2, 3)\n",
        "print(t3[0]) \n",
        "t4 = (1,2,3,4)\n",
        "t5 = (t4,5,6)\n",
        "print(len(t5))\n",
        "print(t5[0][0]) "
      ],
      "execution_count": 35,
      "outputs": [
        {
          "output_type": "stream",
          "text": [
            "1\n",
            "3\n",
            "1\n"
          ],
          "name": "stdout"
        }
      ]
    },
    {
      "cell_type": "code",
      "metadata": {
        "id": "DM3IJ5atbuDm",
        "colab_type": "code",
        "colab": {
          "base_uri": "https://localhost:8080/",
          "height": 68
        },
        "outputId": "c6f753de-2012-4e65-cd91-aadc49c3f41a"
      },
      "source": [
        "t3 = (1, 2, 3)\n",
        "a, b, c = t3\n",
        "print('a =', a, ',b =', b, ',c =', c)\n",
        "a = 10\n",
        "b = 20\n",
        "print('交換前','a =', a, ',b =', b)\n",
        "a, b = b, a\n",
        "print('交換後','a =', a, ',b =', b)"
      ],
      "execution_count": 36,
      "outputs": [
        {
          "output_type": "stream",
          "text": [
            "a = 1 ,b = 2 ,c = 3\n",
            "交換前 a = 10 ,b = 20\n",
            "交換後 a = 20 ,b = 10\n"
          ],
          "name": "stdout"
        }
      ]
    },
    {
      "cell_type": "code",
      "metadata": {
        "id": "guDLlTHJb0gT",
        "colab_type": "code",
        "colab": {
          "base_uri": "https://localhost:8080/",
          "height": 119
        },
        "outputId": "07bda4e5-d14c-4f53-9a19-bc31bb2ef8ef"
      },
      "source": [
        "shoplist = ['牛奶', '蛋', '咖啡豆', '西瓜', '鳳梨']\n",
        "print('購物清單shoplist為')\n",
        "print(shoplist)\n",
        "listm = [1, 2.0, 'Python']\n",
        "print(\"串列可以包含各種資料型別的元素\")\n",
        "print(listm)\n",
        "list1 = list('python')\n",
        "print(list1) \n",
        "tuple2 = ('a', 'b', 1, 2)\n",
        "list2 = list(tuple2)\n",
        "print(list2)"
      ],
      "execution_count": 37,
      "outputs": [
        {
          "output_type": "stream",
          "text": [
            "購物清單shoplist為\n",
            "['牛奶', '蛋', '咖啡豆', '西瓜', '鳳梨']\n",
            "串列可以包含各種資料型別的元素\n",
            "[1, 2.0, 'Python']\n",
            "['p', 'y', 't', 'h', 'o', 'n']\n",
            "['a', 'b', 1, 2]\n"
          ],
          "name": "stdout"
        }
      ]
    },
    {
      "cell_type": "code",
      "metadata": {
        "id": "GgS_xYvTb8SG",
        "colab_type": "code",
        "colab": {
          "base_uri": "https://localhost:8080/",
          "height": 340
        },
        "outputId": "f974350a-1a21-4fb2-cf60-90f6f9a80fae"
      },
      "source": [
        "shoplist = ['牛奶', '蛋', '咖啡豆', '西瓜', '鳳梨']\n",
        "##索引\n",
        "print('顯示shoplist[0]為',shoplist[0])\n",
        "index=shoplist.index('咖啡豆') #取出元素索引值\n",
        "print(\"執行 index=shoplist.index('咖啡豆') 後\")\n",
        "print('index=', index)\n",
        "##修改\n",
        "shoplist[1] = '皮蛋'\n",
        "print(\"執行 shoplist[1] = '皮蛋' 後\")\n",
        "print(shoplist)\n",
        "##切片\n",
        "a = list('abcdefghijk')\n",
        "print('a[:]為', a[:])\n",
        "print('a[:5]為', a[:5])\n",
        "print('a[5:]為', a[5:])\n",
        "print('a[:-5]為', a[:-5])\n",
        "print('a[-5:]為', a[-5:])\n",
        "print('a[0:4]為', a[0:4])\n",
        "print('a[-5:-3]為', a[-5:-3])\n",
        "print('a[1:10:3]為', a[1:10:3])\n",
        "print('a[-1:-4:-1]為', a[-1:-4:-1])\n",
        "print('a[::-1]為', a[::-1])\n",
        "## 使用[for變數 in串列]可以讀取串列所有元素到變數(Optional)\n",
        "shoplist = ['milk', 'egg', 'coffee', 'watermelon']\n",
        "for item in shoplist:\n",
        " print(item)"
      ],
      "execution_count": 38,
      "outputs": [
        {
          "output_type": "stream",
          "text": [
            "顯示shoplist[0]為 牛奶\n",
            "執行 index=shoplist.index('咖啡豆') 後\n",
            "index= 2\n",
            "執行 shoplist[1] = '皮蛋' 後\n",
            "['牛奶', '皮蛋', '咖啡豆', '西瓜', '鳳梨']\n",
            "a[:]為 ['a', 'b', 'c', 'd', 'e', 'f', 'g', 'h', 'i', 'j', 'k']\n",
            "a[:5]為 ['a', 'b', 'c', 'd', 'e']\n",
            "a[5:]為 ['f', 'g', 'h', 'i', 'j', 'k']\n",
            "a[:-5]為 ['a', 'b', 'c', 'd', 'e', 'f']\n",
            "a[-5:]為 ['g', 'h', 'i', 'j', 'k']\n",
            "a[0:4]為 ['a', 'b', 'c', 'd']\n",
            "a[-5:-3]為 ['g', 'h']\n",
            "a[1:10:3]為 ['b', 'e', 'h']\n",
            "a[-1:-4:-1]為 ['k', 'j', 'i']\n",
            "a[::-1]為 ['k', 'j', 'i', 'h', 'g', 'f', 'e', 'd', 'c', 'b', 'a']\n",
            "milk\n",
            "egg\n",
            "coffee\n",
            "watermelon\n"
          ],
          "name": "stdout"
        }
      ]
    },
    {
      "cell_type": "code",
      "metadata": {
        "id": "SMgO78p_fIog",
        "colab_type": "code",
        "colab": {
          "base_uri": "https://localhost:8080/",
          "height": 289
        },
        "outputId": "3276d8bc-5c31-4c18-9c84-797fedfa1d11"
      },
      "source": [
        "shoplist = ['牛奶', '蛋', '咖啡豆', '西瓜', '鳳梨']\n",
        "shoplist.append('麵包') #增加元素到串列的最後面\n",
        "print(\"執行 shoplist.append('麵包')後\")\n",
        "print(shoplist)\n",
        "shoplist.insert(4, '蘋果') #增加元素到串列的指定位置\n",
        "print(\"執行 shoplist.insert(4, '蘋果') 後\")\n",
        "print(shoplist)\n",
        "shoplist.remove('蛋') #移除串列的指定元素\n",
        "print(\"執行 shoplist.remove('蛋') 後\")\n",
        "print(shoplist)\n",
        "del shoplist[0] #移除串列位置索引元素\n",
        "print(\"執行 del shoplist[0] 後\")\n",
        "print(shoplist)\n",
        "shoplist.pop(0) #移除串列指定位置元素，第一個\n",
        "print(\"執行 shoplist.pop(0) 後\")\n",
        "print(shoplist)\n",
        "shoplist.pop() #移除串列指定位置元，最後一個\n",
        "print(\"執行 shoplist.pop() 後\")\n",
        "print(shoplist)\n",
        "shoplist.pop(-1) #移除串列指定位置元，最後一個\n",
        "print(\"執行 shoplist.pop(-1) 後\")\n",
        "print(shoplist)\n",
        "shoplist = ['milk', 'egg', 'coffee', 'watermelon']\n",
        "shoplist.sort() # 排序\n",
        "print(\"執行 shoplist.sort() 後\")\n",
        "print(shoplist)"
      ],
      "execution_count": 39,
      "outputs": [
        {
          "output_type": "stream",
          "text": [
            "執行 shoplist.append('麵包')後\n",
            "['牛奶', '蛋', '咖啡豆', '西瓜', '鳳梨', '麵包']\n",
            "執行 shoplist.insert(4, '蘋果') 後\n",
            "['牛奶', '蛋', '咖啡豆', '西瓜', '蘋果', '鳳梨', '麵包']\n",
            "執行 shoplist.remove('蛋') 後\n",
            "['牛奶', '咖啡豆', '西瓜', '蘋果', '鳳梨', '麵包']\n",
            "執行 del shoplist[0] 後\n",
            "['咖啡豆', '西瓜', '蘋果', '鳳梨', '麵包']\n",
            "執行 shoplist.pop(0) 後\n",
            "['西瓜', '蘋果', '鳳梨', '麵包']\n",
            "執行 shoplist.pop() 後\n",
            "['西瓜', '蘋果', '鳳梨']\n",
            "執行 shoplist.pop(-1) 後\n",
            "['西瓜', '蘋果']\n",
            "執行 shoplist.sort() 後\n",
            "['coffee', 'egg', 'milk', 'watermelon']\n"
          ],
          "name": "stdout"
        }
      ]
    }
  ]
}