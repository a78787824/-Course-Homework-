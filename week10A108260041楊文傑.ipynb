{
  "nbformat": 4,
  "nbformat_minor": 0,
  "metadata": {
    "colab": {
      "name": "week10A108260041楊文傑.ipynb",
      "provenance": [],
      "include_colab_link": true
    },
    "kernelspec": {
      "name": "python2",
      "display_name": "Python 2"
    }
  },
  "cells": [
    {
      "cell_type": "markdown",
      "metadata": {
        "id": "view-in-github",
        "colab_type": "text"
      },
      "source": [
        "<a href=\"https://colab.research.google.com/github/a78787824/-Course-Homework-/blob/master/week10A108260041%E6%A5%8A%E6%96%87%E5%82%91.ipynb\" target=\"_parent\"><img src=\"https://colab.research.google.com/assets/colab-badge.svg\" alt=\"Open In Colab\"/></a>"
      ]
    },
    {
      "cell_type": "code",
      "metadata": {
        "id": "Krdj3J9va2HS",
        "colab_type": "code",
        "colab": {
          "base_uri": "https://localhost:8080/",
          "height": 102
        },
        "outputId": "da6fe845-9f7c-4772-ad38-8c060428fbc1"
      },
      "source": [
        "print(\"You are on a deserted island in a 2D world.\")\n",
        "print(\"Try to survive until rescue arrives!\")\n",
        "print(\"Available commands are in CAPITAL letters.\")\n",
        "print(\"Any other command exits the program\")\n",
        "print(\"First LOOK around...\")"
      ],
      "execution_count": 1,
      "outputs": [
        {
          "output_type": "stream",
          "text": [
            "You are on a deserted island in a 2D world.\n",
            "Try to survive until rescue arrives!\n",
            "Available commands are in CAPITAL letters.\n",
            "Any other command exits the program\n",
            "First LOOK around...\n"
          ],
          "name": "stdout"
        }
      ]
    },
    {
      "cell_type": "code",
      "metadata": {
        "id": "KDsXKzumjmk5",
        "colab_type": "code",
        "colab": {
          "base_uri": "https://localhost:8080/",
          "height": 131
        },
        "outputId": "3b9db8c9-3b37-49df-b984-76887bb99213"
      },
      "source": [
        "do = input(\":: \")\n",
        "if do == \"LOOK\": \n",
        "  print(\"You are stuck in a sand ditch.\") \n",
        "  print(\"Crawl out LEFT or RIGHT.\") \n",
        "\n",
        " do = input(\":: \")\n",
        " if do == \"LEFT\": \n",
        "  print(\"You see a STARFISH and a CRAB on the sand.\") \n",
        "  print(\"And you're hungry! Which do you eat?\")\n",
        "\n",
        " \n",
        " do = input(\":: \") \n",
        " if do == \"STARFISH\": \n",
        "  print(\"Oh no! You immediately don't feel well.\")\n",
        "  print(\"You do not survive :(\") \n",
        " elif do == \"CRAB\": \n",
        "  print(\"Raw crab should be fine, right? YES or NO.\") \n",
        "\n",
        " do = input(\":: \") \n",
        " if do == \"YES\":\n",
        "  print(\"Ok, You eat it raw. Fingers crossed.\")\n",
        "  print(\"Food in your belly helps you see a TREE.\") \n",
        "\n",
        " do = input(\":: \") \n",
        " if do == \"TREE\":\n",
        "  print(\"It's a coconut tree! And you're thirsty!\") \n",
        "  print(\"Do you drink the coconut water? YES or NO.\")\n",
        "\n",
        " do = input(\":: \")\n",
        " if do == \"YES\":\n",
        "  print(\"Oh boy. Coconut water and raw crab don't mix.\")\n",
        "  print(\"You do not survive :(\") \n",
        " elif do == \"NO\":\n",
        "  print(\"Good choice.\")\n",
        "  print(\"Look! It's a rescue plane! You made it! \\o/\") \n",
        "\n",
        " elif do == \"NO\":\n",
        "  print(\"Well, there's nothing else left to eat.\")\n",
        "  print(\"You do not survive :(\") \n",
        "\n",
        " elif do == \"RIGHT\": \n",
        "  print(\"No can do. That side is very slippery.\") \n",
        "  print(\"You fall very far into some weird cavern.\")\n",
        "  print(\"You do not survive :(\") \n",
        "\n",
        "else:\n",
        "  print(\"You can only do actions shown in capital letters.\") \n",
        "  print(\"Try again!\")"
      ],
      "execution_count": 3,
      "outputs": [
        {
          "output_type": "error",
          "ename": "IndentationError",
          "evalue": "ignored",
          "traceback": [
            "\u001b[0;36m  File \u001b[0;32m\"<ipython-input-3-e4e2aa5d7f28>\"\u001b[0;36m, line \u001b[0;32m8\u001b[0m\n\u001b[0;31m    print(\"You see a STARFISH and a CRAB on the sand.\")\u001b[0m\n\u001b[0m        ^\u001b[0m\n\u001b[0;31mIndentationError\u001b[0m\u001b[0;31m:\u001b[0m expected an indented block\n"
          ]
        }
      ]
    },
    {
      "cell_type": "code",
      "metadata": {
        "id": "DL5Cbi6JkLlC",
        "colab_type": "code",
        "colab": {
          "base_uri": "https://localhost:8080/",
          "height": 68
        },
        "outputId": "014f0951-c7a6-4c5a-bd37-6e7d639fdffc"
      },
      "source": [
        "import random\n",
        "my = int(input(\"請出拳 [0] 剪⼑ [1] ⽯頭 [2] 布\"))\n",
        "print(\"我出拳為\", my)\n",
        "computer = random.randint(0, 2)\n",
        "print(\"電腦出拳為\", computer)"
      ],
      "execution_count": 10,
      "outputs": [
        {
          "output_type": "stream",
          "text": [
            "請出拳 [0] 剪⼑ [1] ⽯頭 [2] 布1\n",
            "('\\xe6\\x88\\x91\\xe5\\x87\\xba\\xe6\\x8b\\xb3\\xe7\\x82\\xba', 1)\n",
            "('\\xe9\\x9b\\xbb\\xe8\\x85\\xa6\\xe5\\x87\\xba\\xe6\\x8b\\xb3\\xe7\\x82\\xba', 2)\n"
          ],
          "name": "stdout"
        }
      ]
    },
    {
      "cell_type": "code",
      "metadata": {
        "id": "nkmurekbkVLw",
        "colab_type": "code",
        "colab": {
          "base_uri": "https://localhost:8080/",
          "height": 34
        },
        "outputId": "d4a56e4d-c0b1-4635-8ece-1a3084430b16"
      },
      "source": [
        "if my == 0:\n",
        " if computer == 0:\n",
        "  print('平⼿')\n",
        " elif computer == 1:\n",
        "  print('電腦獲勝')\n",
        " else:\n",
        "  print('玩家獲勝')\n",
        "elif my == 1:\n",
        " if computer == 0:\n",
        "  print('玩家獲勝')\n",
        " elif computer == 1:\n",
        "  print('平⼿')\n",
        " else:\n",
        "  print('電腦獲勝')\n",
        "else:\n",
        " if computer == 1:\n",
        "  print('電腦獲勝')\n",
        " elif computer == 2:\n",
        "  print('玩家獲勝')\n",
        " else:\n",
        "  print('平⼿')"
      ],
      "execution_count": 11,
      "outputs": [
        {
          "output_type": "stream",
          "text": [
            "電腦獲勝\n"
          ],
          "name": "stdout"
        }
      ]
    },
    {
      "cell_type": "code",
      "metadata": {
        "id": "Gl6wUQ6SlHeQ",
        "colab_type": "code",
        "colab": {
          "base_uri": "https://localhost:8080/",
          "height": 68
        },
        "outputId": "59016954-532d-4be4-c046-0e126d125d52"
      },
      "source": [
        "import random\n",
        "my_choice = int(input(\"請出拳 [0] 剪⼑ [1] ⽯頭 [2] 布\"))\n",
        "print(\"我出拳為\", my_choice)\n",
        "com_choice = random.randint(0, 2)\n",
        "print(\"電腦出拳為\", com_choice)"
      ],
      "execution_count": 12,
      "outputs": [
        {
          "output_type": "stream",
          "text": [
            "請出拳 [0] 剪⼑ [1] ⽯頭 [2] 布1\n",
            "('\\xe6\\x88\\x91\\xe5\\x87\\xba\\xe6\\x8b\\xb3\\xe7\\x82\\xba', 1)\n",
            "('\\xe9\\x9b\\xbb\\xe8\\x85\\xa6\\xe5\\x87\\xba\\xe6\\x8b\\xb3\\xe7\\x82\\xba', 1)\n"
          ],
          "name": "stdout"
        }
      ]
    },
    {
      "cell_type": "code",
      "metadata": {
        "id": "PrPfRSSzlQkr",
        "colab_type": "code",
        "colab": {
          "base_uri": "https://localhost:8080/",
          "height": 34
        },
        "outputId": "f5605796-1387-4ef8-ffb8-f7bc41b4678f"
      },
      "source": [
        "if my_choice == (com_choice + 1) % 3:\n",
        " print(\"我贏了\")\n",
        "elif my_choice == com_choice:\n",
        " print(\"平⼿\")\n",
        "else:\n",
        " print(\"我輸了\")"
      ],
      "execution_count": 13,
      "outputs": [
        {
          "output_type": "stream",
          "text": [
            "平⼿\n"
          ],
          "name": "stdout"
        }
      ]
    },
    {
      "cell_type": "code",
      "metadata": {
        "id": "UpwF20EylUkK",
        "colab_type": "code",
        "colab": {
          "base_uri": "https://localhost:8080/",
          "height": 68
        },
        "outputId": "930e1ded-742a-421e-bf0e-2a4965c6dd34"
      },
      "source": [
        "import random\n",
        "my_choice = int(input(\"請出拳 [0] 蟲 [1] 雞 [2] 老虎 [3] 棒⼦\"))\n",
        "print(\"你出的拳:\", my_choice)\n",
        "com_choice = random.randint(0, 3)\n",
        "print(\"電腦出拳為\", com_choice)"
      ],
      "execution_count": 14,
      "outputs": [
        {
          "output_type": "stream",
          "text": [
            "請出拳 [0] 蟲 [1] 雞 [2] 老虎 [3] 棒⼦2\n",
            "('\\xe4\\xbd\\xa0\\xe5\\x87\\xba\\xe7\\x9a\\x84\\xe6\\x8b\\xb3:', 2)\n",
            "('\\xe9\\x9b\\xbb\\xe8\\x85\\xa6\\xe5\\x87\\xba\\xe6\\x8b\\xb3\\xe7\\x82\\xba', 2)\n"
          ],
          "name": "stdout"
        }
      ]
    },
    {
      "cell_type": "code",
      "metadata": {
        "id": "9tG3RSC_lYzX",
        "colab_type": "code",
        "colab": {
          "base_uri": "https://localhost:8080/",
          "height": 34
        },
        "outputId": "957d32db-7ac7-45db-dfd3-6ee7430b6c2b"
      },
      "source": [
        "if my_choice == (com_choice + 1) % 4:\n",
        " print(\"我贏了\")\n",
        "elif com_choice == (my_choice + 1) % 4:\n",
        " print(\"電腦贏了\")\n",
        "else:\n",
        " print(\"平⼿\")"
      ],
      "execution_count": 15,
      "outputs": [
        {
          "output_type": "stream",
          "text": [
            "平⼿\n"
          ],
          "name": "stdout"
        }
      ]
    }
  ]
}