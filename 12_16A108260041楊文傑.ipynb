{
  "nbformat": 4,
  "nbformat_minor": 0,
  "metadata": {
    "colab": {
      "name": "12/16A108260041楊文傑.ipynb",
      "provenance": [],
      "include_colab_link": true
    },
    "kernelspec": {
      "name": "python3",
      "display_name": "Python 3"
    }
  },
  "cells": [
    {
      "cell_type": "markdown",
      "metadata": {
        "id": "view-in-github",
        "colab_type": "text"
      },
      "source": [
        "<a href=\"https://colab.research.google.com/github/a78787824/-Course-Homework-/blob/master/12_16A108260041%E6%A5%8A%E6%96%87%E5%82%91.ipynb\" target=\"_parent\"><img src=\"https://colab.research.google.com/assets/colab-badge.svg\" alt=\"Open In Colab\"/></a>"
      ]
    },
    {
      "cell_type": "code",
      "metadata": {
        "id": "k8PXlJ0rqdt-",
        "colab_type": "code",
        "colab": {
          "base_uri": "https://localhost:8080/",
          "height": 102
        },
        "outputId": "2e1322c7-f579-4f47-b8ad-7abaf1762fe6"
      },
      "source": [
        "n = 1\n",
        "while n < 5 :\n",
        "    print(\"變數n是\", n)\n",
        "    n = n + 1\n",
        "print(\"Finished\")"
      ],
      "execution_count": 3,
      "outputs": [
        {
          "output_type": "stream",
          "text": [
            "變數n是 1\n",
            "變數n是 2\n",
            "變數n是 3\n",
            "變數n是 4\n",
            "Finished\n"
          ],
          "name": "stdout"
        }
      ]
    },
    {
      "cell_type": "code",
      "metadata": {
        "id": "lET95Ne_sr7n",
        "colab_type": "code",
        "colab": {
          "base_uri": "https://localhost:8080/",
          "height": 187
        },
        "outputId": "34d8c78f-7c42-4eda-a24a-61c5b82fd283"
      },
      "source": [
        "x = 0 \n",
        "while x < 10: \n",
        " print(\"hello\")\n",
        " x = x + 1 "
      ],
      "execution_count": 4,
      "outputs": [
        {
          "output_type": "stream",
          "text": [
            "hello\n",
            "hello\n",
            "hello\n",
            "hello\n",
            "hello\n",
            "hello\n",
            "hello\n",
            "hello\n",
            "hello\n",
            "hello\n"
          ],
          "name": "stdout"
        }
      ]
    },
    {
      "cell_type": "code",
      "metadata": {
        "id": "uxELK35guWvn",
        "colab_type": "code",
        "colab": {
          "base_uri": "https://localhost:8080/",
          "height": 187
        },
        "outputId": "8a617dc3-a51f-4170-9b64-ddbcdd9621a7"
      },
      "source": [
        "times = 0 \n",
        "while times < 10: \n",
        "   times = times + 1\n",
        "   print(\"這是第\", times, \"次的hello\")"
      ],
      "execution_count": 5,
      "outputs": [
        {
          "output_type": "stream",
          "text": [
            "這是第 1 次的hello\n",
            "這是第 2 次的hello\n",
            "這是第 3 次的hello\n",
            "這是第 4 次的hello\n",
            "這是第 5 次的hello\n",
            "這是第 6 次的hello\n",
            "這是第 7 次的hello\n",
            "這是第 8 次的hello\n",
            "這是第 9 次的hello\n",
            "這是第 10 次的hello\n"
          ],
          "name": "stdout"
        }
      ]
    },
    {
      "cell_type": "code",
      "metadata": {
        "id": "5UI8U7JeumOS",
        "colab_type": "code",
        "colab": {
          "base_uri": "https://localhost:8080/",
          "height": 34
        },
        "outputId": "7ff43c11-4c7b-487c-e184-736a715a6695"
      },
      "source": [
        "x = 0 \n",
        "result = 0\n",
        "while x < 10: \n",
        " x = x + 1 \n",
        " result = result + x\n",
        "print(\"答案是：\", result)"
      ],
      "execution_count": 7,
      "outputs": [
        {
          "output_type": "stream",
          "text": [
            "答案是： 55\n"
          ],
          "name": "stdout"
        }
      ]
    },
    {
      "cell_type": "code",
      "metadata": {
        "id": "pNYS98GOxHBd",
        "colab_type": "code",
        "colab": {
          "base_uri": "https://localhost:8080/",
          "height": 34
        },
        "outputId": "dba72426-e685-4afd-c1a0-dcb031525227"
      },
      "source": [
        "x = 0 \n",
        "result = 0\n",
        "while result <= 50: \n",
        " x = x + 1 \n",
        " result = result + x\n",
        "print(\"最後加的X是\", x)"
      ],
      "execution_count": 9,
      "outputs": [
        {
          "output_type": "stream",
          "text": [
            "最後加的X是 10\n"
          ],
          "name": "stdout"
        }
      ]
    },
    {
      "cell_type": "code",
      "metadata": {
        "id": "E3lU0lrQyDZY",
        "colab_type": "code",
        "colab": {
          "base_uri": "https://localhost:8080/",
          "height": 34
        },
        "outputId": "6a924777-7a96-445b-a9f7-2fb6dcb3dd27"
      },
      "source": [
        "sum = 0 \n",
        "x = 1\n",
        "while x < 11: \n",
        " sum = sum + x \n",
        " x = x + 2\n",
        "print(\"1 + 3 + 5 + 7 + 9 = \", sum)"
      ],
      "execution_count": 10,
      "outputs": [
        {
          "output_type": "stream",
          "text": [
            "1 + 3 + 5 + 7 + 9 =  25\n"
          ],
          "name": "stdout"
        }
      ]
    },
    {
      "cell_type": "code",
      "metadata": {
        "id": "SJIH9_8WzAVT",
        "colab_type": "code",
        "colab": {
          "base_uri": "https://localhost:8080/",
          "height": 34
        },
        "outputId": "8ad6c6fc-2a21-4861-89a4-5c84cf0c9706"
      },
      "source": [
        "sum = 0\n",
        "i = 0\n",
        "while sum <= 1000:\n",
        " i += 1\n",
        " sum += i*i\n",
        "print('最⼩的n值為', i)"
      ],
      "execution_count": 12,
      "outputs": [
        {
          "output_type": "stream",
          "text": [
            "最⼩的n值為 14\n"
          ],
          "name": "stdout"
        }
      ]
    },
    {
      "cell_type": "code",
      "metadata": {
        "id": "slovumqc2gD8",
        "colab_type": "code",
        "colab": {
          "base_uri": "https://localhost:8080/",
          "height": 51
        },
        "outputId": "9489f83c-bf9a-4a46-a961-2b987c7ba1b9"
      },
      "source": [
        "M = int(input('請輸入限制值M？')) \n",
        "factorial = 1\n",
        "i = 1\n",
        "while(factorial < M): \n",
        " i = i + 1 \n",
        " factorial = factorial * i\n",
        "\n",
        "print(i,'階乘為', factorial,'其值⼤於', M)"
      ],
      "execution_count": 13,
      "outputs": [
        {
          "output_type": "stream",
          "text": [
            "請輸入限制值M？14\n",
            "4 階乘為 24 其值⼤於 14\n"
          ],
          "name": "stdout"
        }
      ]
    },
    {
      "cell_type": "code",
      "metadata": {
        "id": "nmqk8QJD2tl0",
        "colab_type": "code",
        "colab": {
          "base_uri": "https://localhost:8080/",
          "height": 119
        },
        "outputId": "8cbb2240-b16a-4960-cdbf-62a1d3b8ea78"
      },
      "source": [
        "i = 0\n",
        "while (i < 7):\n",
        " i += 1\n",
        " if i == 4:\n",
        "   continue\n",
        " print(i)"
      ],
      "execution_count": 18,
      "outputs": [
        {
          "output_type": "stream",
          "text": [
            "1\n",
            "2\n",
            "3\n",
            "5\n",
            "6\n",
            "7\n"
          ],
          "name": "stdout"
        }
      ]
    },
    {
      "cell_type": "code",
      "metadata": {
        "id": "5Af_NS4p4AOo",
        "colab_type": "code",
        "colab": {}
      },
      "source": [
        ""
      ],
      "execution_count": 0,
      "outputs": []
    }
  ]
}