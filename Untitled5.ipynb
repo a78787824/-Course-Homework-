{
  "nbformat": 4,
  "nbformat_minor": 0,
  "metadata": {
    "colab": {
      "name": "Untitled5.ipynb",
      "provenance": [],
      "include_colab_link": true
    },
    "kernelspec": {
      "name": "python3",
      "display_name": "Python 3"
    }
  },
  "cells": [
    {
      "cell_type": "markdown",
      "metadata": {
        "id": "view-in-github",
        "colab_type": "text"
      },
      "source": [
        "<a href=\"https://colab.research.google.com/github/a78787824/-Course-Homework-/blob/master/Untitled5.ipynb\" target=\"_parent\"><img src=\"https://colab.research.google.com/assets/colab-badge.svg\" alt=\"Open In Colab\"/></a>"
      ]
    },
    {
      "cell_type": "code",
      "metadata": {
        "id": "iBYmRHZOaSCj",
        "colab_type": "code",
        "colab": {
          "base_uri": "https://localhost:8080/",
          "height": 68
        },
        "outputId": "21346a3f-7e6d-452e-a3df-4b808b4161c9"
      },
      "source": [
        "print(\"Welcome to the Mashup Game!\")\n",
        "name1 = input(\"Enter one full name (FIRST LAST): \")\n",
        "name2 = input(\"Enter another full name (FIRST LAST): \") "
      ],
      "execution_count": 1,
      "outputs": [
        {
          "output_type": "stream",
          "text": [
            "Welcome to the Mashup Game!\n",
            "Enter one full name (FIRST LAST): Aqua Man\n",
            "Enter another full name (FIRST LAST): Cat Woman\n"
          ],
          "name": "stdout"
        }
      ]
    },
    {
      "cell_type": "code",
      "metadata": {
        "id": "u-4qYxadam9n",
        "colab_type": "code",
        "colab": {
          "base_uri": "https://localhost:8080/",
          "height": 85
        },
        "outputId": "2b88dc56-48ca-42a9-afe1-f77d591289b0"
      },
      "source": [
        "space = name1.find(\" \") #找出空格\n",
        "name1_first = name1[0:space] #名字的起始值為0，結束索引值為空格\n",
        "name1_last = name1[space+1:len(name1)] #起始值為空格，結束索引值為字串長度\n",
        "space = name2.find(\" \")\n",
        "name2_first = name2[0:space]\n",
        "name2_last = name2[space+1:len(name2)]\n",
        "print(name1_first)\n",
        "print(name1_last)\n",
        "print(name2_first)\n",
        "print(name2_last)\n",
        "#找到中間字元，切分姓氏和名字為前半部與後半部\n",
        "#長度為偶數時，對半分配，中間字元即為索引值。\n",
        "#長度為奇數（偶數）時，將字串長度除以2後，用int()取整數為索引值。\n",
        "len_name1_first = len(name1_first)\n",
        "len_name2_first = len(name2_first)\n",
        "len_name1_last = len(name1_last)\n",
        "len_name2_last = len(name2_last)\n",
        "index_name1_first = int(len_name1_first/2)\n",
        "index_name2_first = int(len_name2_first/2)\n",
        "index_name1_last = int(len_name1_last/2)\n",
        "index_name2_last = int(len_name2_last/2)\n",
        "#依照索引值找出對應前後半部字元，存入新變數。\n",
        "lefthalf_name1_first = name1_first[0:index_name1_first]\n",
        "righthalf_name1_first = name1_first[index_name1_first:len_name1_first]\n",
        "lefthalf_name2_first = name2_first[0:index_name2_first]\n",
        "righthalf_name2_first = name2_first[index_name2_first:len_name2_first]\n",
        "lefthalf_name1_last = name1_last[0:index_name1_last]\n",
        "righthalf_name1_last = name1_last[index_name1_last:len_name1_last]\n",
        "lefthalf_name2_last = name2_last[0:index_name2_last]\n",
        "righthalf_name2_last = name2_last[index_name2_last:len_name2_last]\n",
        "#重組名字\n",
        "#用＋連接姓與名，第一個字母大寫，其餘全部小寫\n",
        "newname1_first = lefthalf_name1_first.capitalize() + righthalf_name1_first.lower()\n",
        "#B\n",
        "newname1_last = lefthalf_name1_last.capitalize() + righthalf_name2_last.lower()\n",
        "newname2_first = lefthalf_name2_first.capitalize() + righthalf_name1_first.lower()\n",
        "newname2_last = lefthalf_name2_last.capitalize() + righthalf_name1_last.lower()"
      ],
      "execution_count": 5,
      "outputs": [
        {
          "output_type": "stream",
          "text": [
            "Aqua\n",
            "Man\n",
            "Cat\n",
            "Woman\n"
          ],
          "name": "stdout"
        }
      ]
    },
    {
      "cell_type": "code",
      "metadata": {
        "id": "J4ZEHdGIat50",
        "colab_type": "code",
        "colab": {
          "base_uri": "https://localhost:8080/",
          "height": 68
        },
        "outputId": "fd7cc8dd-b099-4617-ed5f-ddd08acdc024"
      },
      "source": [
        "print(\"All done! Here are two possibilities, pick the one you like best!\")\n",
        "print(newname1_first, newname1_last)\n",
        "print(newname2_first, newname2_last)"
      ],
      "execution_count": 8,
      "outputs": [
        {
          "output_type": "stream",
          "text": [
            "All done! Here are two possibilities, pick the one you like best!\n",
            "Aqua Mman\n",
            "Cua Woan\n"
          ],
          "name": "stdout"
        }
      ]
    },
    {
      "cell_type": "code",
      "metadata": {
        "id": "8w7O8ebIgN8g",
        "colab_type": "code",
        "colab": {
          "base_uri": "https://localhost:8080/",
          "height": 119
        },
        "outputId": "06a87cc1-2d34-4ba8-f20d-d6c2be4a92c4"
      },
      "source": [
        "print(\"Welcome to the Mashup Game!\")\n",
        "name1 = input(\"Enter one full name (FIRST LAST): \")\n",
        "name2 = input(\"Enter another full name (FIRST LAST): \")\n",
        "space = name1.find(\" \")\n",
        "name1_first = name1[0:space]\n",
        "name1_last = name1[space+1:len(name1)]\n",
        "space = name2.find(\" \")\n",
        "name2_first = name2[0:space]\n",
        "name2_last = name2[space+1:len(name2)]\n",
        "len_name1_first = len(name1_first)\n",
        "len_name2_first = len(name2_first)\n",
        "len_name1_last = len(name1_last)\n",
        "len_name2_last = len(name2_last)\n",
        "index_name1_first = int(len_name1_first/2)\n",
        "index_name2_first = int(len_name2_first/2)\n",
        "index_name1_last = int(len_name1_last/2)\n",
        "index_name2_last = int(len_name2_last/2)\n",
        "lefthalf_name1_first = name1_first[0:index_name1_first]\n",
        "righthalf_name1_first = name1_first[index_name1_first:len_name1_first]\n",
        "lefthalf_name2_first = name2_first[0:index_name2_first]\n",
        "righthalf_name2_first = name2_first[index_name2_first:len_name2_first]\n",
        "lefthalf_name1_last = name1_last[0:index_name1_last]\n",
        "righthalf_name1_last = name1_last[index_name1_last:len_name1_last]\n",
        "lefthalf_name2_last = name2_last[0:index_name2_last]\n",
        "righthalf_name2_last = name2_last[index_name2_last:len_name2_last]\n",
        "newname1_first = lefthalf_name1_first.capitalize() + righthalf_name1_first.lower()\n",
        "#B\n",
        "newname1_last = lefthalf_name1_last.capitalize() + righthalf_name2_last.lower()\n",
        "newname2_first = lefthalf_name2_first.capitalize() + righthalf_name1_first.lower()\n",
        "newname2_last = lefthalf_name2_last.capitalize() + righthalf_name1_last.lower()\n",
        "print(\"All done! Here are two possibilities, pick the one you like best!\")\n",
        "print(newname1_first, newname1_last)\n",
        "print(newname2_first, newname2_last)"
      ],
      "execution_count": 9,
      "outputs": [
        {
          "output_type": "stream",
          "text": [
            "Welcome to the Mashup Game!\n",
            "Enter one full name (FIRST LAST): Aqua Man\n",
            "Enter another full name (FIRST LAST): Cat Man\n",
            "All done! Here are two possibilities, pick the one you like best!\n",
            "Aqua Man\n",
            "Cua Man\n"
          ],
          "name": "stdout"
        }
      ]
    },
    {
      "cell_type": "code",
      "metadata": {
        "id": "2f2TGSQ0gyAk",
        "colab_type": "code",
        "colab": {
          "base_uri": "https://localhost:8080/",
          "height": 51
        },
        "outputId": "537f8a61-3fe7-4af7-daf3-c87449ecfca4"
      },
      "source": [
        "s = input('請輸入一個字串？')\n",
        "print('迴文判斷結果為', s == s[::-1])"
      ],
      "execution_count": 10,
      "outputs": [
        {
          "output_type": "stream",
          "text": [
            "請輸入一個字串？abcdefggfedcba\n",
            "迴文判斷結果為 True\n"
          ],
          "name": "stdout"
        }
      ]
    },
    {
      "cell_type": "code",
      "metadata": {
        "id": "TmeIJnM1g5lw",
        "colab_type": "code",
        "colab": {
          "base_uri": "https://localhost:8080/",
          "height": 136
        },
        "outputId": "e3526637-b6b8-497f-d771-843fba683e7a"
      },
      "source": [
        "待辦事項 = []\n",
        "工作 = input('請輸入待辦事項？')\n",
        "待辦事項.append(工作)\n",
        "工作 = input('請輸入待辦事項？')\n",
        "待辦事項.append(工作)\n",
        "工作 = input('請輸入待辦事項？')\n",
        "待辦事項.append(工作)\n",
        "工作 = input('請輸入待辦事項？')\n",
        "待辦事項.append(工作)\n",
        "工作 = input('請輸入待辦事項？')\n",
        "待辦事項.append(工作)\n",
        "print(待辦事項.pop(0), 待辦事項.pop(0), 待辦事項)\n",
        "print(待辦事項.pop(), 待辦事項)"
      ],
      "execution_count": 11,
      "outputs": [
        {
          "output_type": "stream",
          "text": [
            "請輸入待辦事項？打球\n",
            "請輸入待辦事項？閱讀\n",
            "請輸入待辦事項？吃飯\n",
            "請輸入待辦事項？借書\n",
            "請輸入待辦事項？寫程式\n",
            "打球 閱讀 ['吃飯', '借書', '寫程式']\n",
            "寫程式 ['吃飯', '借書']\n"
          ],
          "name": "stdout"
        }
      ]
    },
    {
      "cell_type": "code",
      "metadata": {
        "id": "3FfJS5vLhSBe",
        "colab_type": "code",
        "colab": {
          "base_uri": "https://localhost:8080/",
          "height": 85
        },
        "outputId": "8348f6a5-8ae4-40cc-a42d-4cc19c820010"
      },
      "source": [
        "字典 = {'dog':'狗', 'fish':'魚', 'cat':'貓', 'pig':'豬'}\n",
        "print(字典.keys())\n",
        "print(字典)\n",
        "英文 = input('請輸入一個英文單字？')\n",
        "print(字典.get(英文,'字典找不到該單字'))"
      ],
      "execution_count": 12,
      "outputs": [
        {
          "output_type": "stream",
          "text": [
            "dict_keys(['dog', 'fish', 'cat', 'pig'])\n",
            "{'dog': '狗', 'fish': '魚', 'cat': '貓', 'pig': '豬'}\n",
            "請輸入一個英文單字？dog\n",
            "狗\n"
          ],
          "name": "stdout"
        }
      ]
    },
    {
      "cell_type": "code",
      "metadata": {
        "id": "fCtKr6hUhcq3",
        "colab_type": "code",
        "colab": {
          "base_uri": "https://localhost:8080/",
          "height": 85
        },
        "outputId": "0c3b2ef4-7b58-4c83-8d86-627851b591b1"
      },
      "source": [
        "字典 = {'dog':'狗', 'fish':'魚', 'cat':'貓', 'pig':'豬'}\n",
        "print(字典.keys())\n",
        "print(字典)\n",
        "英文 = input('請輸入一個英文單字？')\n",
        "print(字典.get(英文,'字典找不到該單字'))\n"
      ],
      "execution_count": 13,
      "outputs": [
        {
          "output_type": "stream",
          "text": [
            "dict_keys(['dog', 'fish', 'cat', 'pig'])\n",
            "{'dog': '狗', 'fish': '魚', 'cat': '貓', 'pig': '豬'}\n",
            "請輸入一個英文單字？turtle\n",
            "字典找不到該單字\n"
          ],
          "name": "stdout"
        }
      ]
    },
    {
      "cell_type": "code",
      "metadata": {
        "id": "68Nl8u93huFn",
        "colab_type": "code",
        "colab": {
          "base_uri": "https://localhost:8080/",
          "height": 34
        },
        "outputId": "d6b7d59a-7e55-45ad-efcc-a89f633de7fb"
      },
      "source": [
        "詩 = '春眠不覺曉，處處聞啼鳥。夜來風雨聲，花落知多少。'\n",
        "字 = set(詩)\n",
        "字.remove('，')\n",
        "字.remove('。')\n",
        "print(字)\n"
      ],
      "execution_count": 14,
      "outputs": [
        {
          "output_type": "stream",
          "text": [
            "{'落', '知', '雨', '來', '處', '夜', '不', '多', '曉', '鳥', '眠', '啼', '聲', '少', '春', '花', '聞', '覺', '風'}\n"
          ],
          "name": "stdout"
        }
      ]
    },
    {
      "cell_type": "code",
      "metadata": {
        "id": "ztOvG9HKhyyV",
        "colab_type": "code",
        "colab": {
          "base_uri": "https://localhost:8080/",
          "height": 51
        },
        "outputId": "2adaa286-d4ed-488f-d5ae-4b95b84d5904"
      },
      "source": [
        "星期 = ['Sunday', 'Monday', 'Tuesday', 'Wednesday', 'Thursday', 'Friday', 'Saturday']\n",
        "月份 = ['January', 'February', 'March', 'April', 'May', 'June', \\\n",
        " 'July', 'August', 'September', 'October', 'November', 'December']\n",
        "dic = {'week':星期, 'month':月份}\n",
        "print(dic['month'])\n",
        "print(dic['month'][7])"
      ],
      "execution_count": 15,
      "outputs": [
        {
          "output_type": "stream",
          "text": [
            "['January', 'February', 'March', 'April', 'May', 'June', 'July', 'August', 'September', 'October', 'November', 'December']\n",
            "August\n"
          ],
          "name": "stdout"
        }
      ]
    },
    {
      "cell_type": "code",
      "metadata": {
        "id": "pAaXivssiRZF",
        "colab_type": "code",
        "colab": {
          "base_uri": "https://localhost:8080/",
          "height": 85
        },
        "outputId": "16830ebb-335a-44c5-f9ac-0ef33ef9c37e"
      },
      "source": [
        "s = input('請輸入一行英文句子？')\n",
        "words = s.split(' ')\n",
        "print('將英文句子以空白字元切割後，獲得單字為', words)\n",
        "s2 = ' '.join(words)\n",
        "print('以空白字元結合所有單字後，獲得句子為', s2)\n",
        "s3 = s.title()\n",
        "print('將每個單字字首轉大寫後，獲得句子為',s3)"
      ],
      "execution_count": 17,
      "outputs": [
        {
          "output_type": "stream",
          "text": [
            "請輸入一行英文句子？an apple a day keeps the doctor away\n",
            "將英文句子以空白字元切割後，獲得單字為 ['an', 'apple', 'a', 'day', 'keeps', 'the', 'doctor', 'away']\n",
            "以空白字元結合所有單字後，獲得句子為 an apple a day keeps the doctor away\n",
            "將每個單字字首轉大寫後，獲得句子為 An Apple A Day Keeps The Doctor Away\n"
          ],
          "name": "stdout"
        }
      ]
    },
    {
      "cell_type": "code",
      "metadata": {
        "id": "73YL1V2ni_f3",
        "colab_type": "code",
        "colab": {
          "base_uri": "https://localhost:8080/",
          "height": 68
        },
        "outputId": "22cfba00-8a61-470a-e1d4-0f276bdb04b4"
      },
      "source": [
        "全班學生 = set(['John', 'Mary', 'Tina', 'Fiona', 'Claire', 'Eva', 'Ben', 'Bill', 'Bert'\n",
        "])\n",
        "英文及格 = set(['John', 'Mary', 'Fiona', 'Claire', 'Ben', 'Bill'])\n",
        "數學及格 = set(['Mary', 'Fiona', 'Claire', 'Eva', 'Ben'])\n",
        "print('英文與數學都及格', 英文及格&數學及格)\n",
        "print('數學不及格', 全班學生-數學及格)\n",
        "print('英文及格與數學不及格', 英文及格&(全班學生-數學及格))\n"
      ],
      "execution_count": 18,
      "outputs": [
        {
          "output_type": "stream",
          "text": [
            "英文與數學都及格 {'Fiona', 'Mary', 'Claire', 'Ben'}\n",
            "數學不及格 {'Tina', 'Bert', 'Bill', 'John'}\n",
            "英文及格與數學不及格 {'Bill', 'John'}\n"
          ],
          "name": "stdout"
        }
      ]
    }
  ]
}