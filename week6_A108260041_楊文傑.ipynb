{
  "nbformat": 4,
  "nbformat_minor": 0,
  "metadata": {
    "colab": {
      "name": "week6 A108260041 楊文傑.ipynb",
      "provenance": [],
      "include_colab_link": true
    },
    "kernelspec": {
      "name": "python3",
      "display_name": "Python 3"
    }
  },
  "cells": [
    {
      "cell_type": "markdown",
      "metadata": {
        "id": "view-in-github",
        "colab_type": "text"
      },
      "source": [
        "<a href=\"https://colab.research.google.com/github/a78787824/-Course-Homework-/blob/master/week6_A108260041_%E6%A5%8A%E6%96%87%E5%82%91.ipynb\" target=\"_parent\"><img src=\"https://colab.research.google.com/assets/colab-badge.svg\" alt=\"Open In Colab\"/></a>"
      ]
    },
    {
      "cell_type": "code",
      "metadata": {
        "id": "jLfcIFBxP2Gt",
        "colab_type": "code",
        "colab": {
          "base_uri": "https://localhost:8080/",
          "height": 51
        },
        "outputId": "48924860-5a5b-4d1a-ea5d-2278f4f4a617"
      },
      "source": [
        "x=75\n",
        "y=80\n",
        "z=65\n",
        "print(x+y+z)\n",
        "print((x+y+z)/3)"
      ],
      "execution_count": 3,
      "outputs": [
        {
          "output_type": "stream",
          "text": [
            "220\n",
            "73.33333333333333\n"
          ],
          "name": "stdout"
        }
      ]
    },
    {
      "cell_type": "code",
      "metadata": {
        "id": "IfyfzujMbFj6",
        "colab_type": "code",
        "colab": {
          "base_uri": "https://localhost:8080/",
          "height": 34
        },
        "outputId": "4baf7966-7e87-48b9-9d18-3bb03136b23d"
      },
      "source": [
        "x=5\n",
        "print((x*12+8)*2.54)"
      ],
      "execution_count": 4,
      "outputs": [
        {
          "output_type": "stream",
          "text": [
            "172.72\n"
          ],
          "name": "stdout"
        }
      ]
    },
    {
      "cell_type": "code",
      "metadata": {
        "id": "VaeRGcSpbuPD",
        "colab_type": "code",
        "colab": {
          "base_uri": "https://localhost:8080/",
          "height": 51
        },
        "outputId": "0835c897-fff1-45b6-d5e6-f1cf01dff270"
      },
      "source": [
        "x=19\n",
        "y=5\n",
        "a=x/y\n",
        "b=x%y\n",
        "print(a)\n",
        "print(b)"
      ],
      "execution_count": 6,
      "outputs": [
        {
          "output_type": "stream",
          "text": [
            "3.8\n",
            "4\n"
          ],
          "name": "stdout"
        }
      ]
    },
    {
      "cell_type": "code",
      "metadata": {
        "id": "h-wgwhvReBao",
        "colab_type": "code",
        "colab": {}
      },
      "source": [
        "a=30/12\n",
        "b=20*30\n",
        "c=\n"
      ],
      "execution_count": 0,
      "outputs": []
    }
  ]
}