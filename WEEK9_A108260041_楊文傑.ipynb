{
  "nbformat": 4,
  "nbformat_minor": 0,
  "metadata": {
    "colab": {
      "name": "WEEK9 A108260041 楊文傑.ipynb",
      "provenance": [],
      "include_colab_link": true
    },
    "kernelspec": {
      "name": "python2",
      "display_name": "Python 2"
    }
  },
  "cells": [
    {
      "cell_type": "markdown",
      "metadata": {
        "id": "view-in-github",
        "colab_type": "text"
      },
      "source": [
        "<a href=\"https://colab.research.google.com/github/a78787824/-Course-Homework-/blob/master/WEEK9_A108260041_%E6%A5%8A%E6%96%87%E5%82%91.ipynb\" target=\"_parent\"><img src=\"https://colab.research.google.com/assets/colab-badge.svg\" alt=\"Open In Colab\"/></a>"
      ]
    },
    {
      "cell_type": "code",
      "metadata": {
        "id": "tgg0rVhResOy",
        "colab_type": "code",
        "colab": {
          "base_uri": "https://localhost:8080/",
          "height": 51
        },
        "outputId": "36d30e6b-9e1c-4e57-e1a1-7713f5aa02eb"
      },
      "source": [
        "score=int(input())\n",
        "if score>=60:\n",
        "  print(\"good boy\")"
      ],
      "execution_count": 1,
      "outputs": [
        {
          "output_type": "stream",
          "text": [
            "100\n",
            "good boy\n"
          ],
          "name": "stdout"
        }
      ]
    },
    {
      "cell_type": "code",
      "metadata": {
        "id": "372yCqGYf2nT",
        "colab_type": "code",
        "colab": {
          "base_uri": "https://localhost:8080/",
          "height": 51
        },
        "outputId": "23e52f79-47de-4b96-b05f-946a30739203"
      },
      "source": [
        "score=int(input())\n",
        "if score>=60:\n",
        "  print(\"pass\")\n",
        "else:\n",
        "  print(\"fail\")\n"
      ],
      "execution_count": 2,
      "outputs": [
        {
          "output_type": "stream",
          "text": [
            "100\n",
            "pass\n"
          ],
          "name": "stdout"
        }
      ]
    },
    {
      "cell_type": "code",
      "metadata": {
        "id": "RZ0fZUVOgiHH",
        "colab_type": "code",
        "colab": {
          "base_uri": "https://localhost:8080/",
          "height": 51
        },
        "outputId": "b23ba7eb-690f-40f6-b3e6-4eb9a0699e55"
      },
      "source": [
        "score=int(input())\n",
        "if score>=60:\n",
        "  print(\"pass\")\n",
        "else:\n",
        "  print(\"fail\")"
      ],
      "execution_count": 3,
      "outputs": [
        {
          "output_type": "stream",
          "text": [
            "59\n",
            "fail\n"
          ],
          "name": "stdout"
        }
      ]
    },
    {
      "cell_type": "code",
      "metadata": {
        "id": "cB4idfOCgn-U",
        "colab_type": "code",
        "colab": {
          "base_uri": "https://localhost:8080/",
          "height": 51
        },
        "outputId": "48e78594-5967-4f88-d5a9-2649854ca56d"
      },
      "source": [
        "score=int(input())\n",
        "if score>=80:\n",
        "  print(\"pass\")\n",
        "elif score >=60:\n",
        "    print(\"ok\")\n",
        "else:\n",
        "  print(\"fail\")"
      ],
      "execution_count": 6,
      "outputs": [
        {
          "output_type": "stream",
          "text": [
            "50\n",
            "fail\n"
          ],
          "name": "stdout"
        }
      ]
    },
    {
      "cell_type": "code",
      "metadata": {
        "id": "EOkQBq4Eh841",
        "colab_type": "code",
        "colab": {
          "base_uri": "https://localhost:8080/",
          "height": 51
        },
        "outputId": "210ae4df-2a0d-45e2-f901-24efb5e9b1ec"
      },
      "source": [
        "score=int(input())\n",
        "if score>=80:\n",
        "  print(\"pass\")\n",
        "elif score >=60:\n",
        "    print(\"ok\")\n",
        "else:\n",
        "  print(\"fail\")"
      ],
      "execution_count": 7,
      "outputs": [
        {
          "output_type": "stream",
          "text": [
            "61\n",
            "ok\n"
          ],
          "name": "stdout"
        }
      ]
    },
    {
      "cell_type": "code",
      "metadata": {
        "id": "AVGGs4cYiALD",
        "colab_type": "code",
        "colab": {
          "base_uri": "https://localhost:8080/",
          "height": 51
        },
        "outputId": "7f64cd36-0475-4f2e-ac0f-4f0e9e32571b"
      },
      "source": [
        "score=int(input())\n",
        "if score>=80:\n",
        "  print(\"pass\")\n",
        "elif score >=60:\n",
        "    print(\"ok\")\n",
        "else:\n",
        "  print(\"fail\")"
      ],
      "execution_count": 8,
      "outputs": [
        {
          "output_type": "stream",
          "text": [
            "98\n",
            "pass\n"
          ],
          "name": "stdout"
        }
      ]
    },
    {
      "cell_type": "code",
      "metadata": {
        "id": "uM6juM3AkE6a",
        "colab_type": "code",
        "colab": {
          "base_uri": "https://localhost:8080/",
          "height": 85
        },
        "outputId": "ccb55efa-49e9-493a-92c6-422fdbea471e"
      },
      "source": [
        "x=float(input(\"\"))\n",
        "y=float(input(\"\"))\n",
        "if(x>0):\n",
        " if(y>0):\n",
        "  print(\"第一象限\")\n",
        "else:\n",
        "  print(\"第四象限\")\n",
        "if(x<0):\n",
        " if(y>0):\n",
        "  print(\"第二象限\")\n",
        "else:\n",
        "  print(\"第三象限\")"
      ],
      "execution_count": 20,
      "outputs": [
        {
          "output_type": "stream",
          "text": [
            "1\n",
            "3\n",
            "第一象限\n",
            "第三象限\n"
          ],
          "name": "stdout"
        }
      ]
    },
    {
      "cell_type": "code",
      "metadata": {
        "id": "6anPVLzjmUZJ",
        "colab_type": "code",
        "colab": {
          "base_uri": "https://localhost:8080/",
          "height": 131
        },
        "outputId": "789b5abf-9fe8-4e93-e73e-6c209a4a7822"
      },
      "source": [
        "x=-1\n",
        "y=1\n",
        "if x>0:\n",
        " print(\"I+IV\")\n",
        " if y>0:\n",
        "  print(\"I\")\n",
        "else:\n",
        " print(\"IV\")\n",
        "\n",
        " else:x<0:\n",
        " print(\"II+III\")\n",
        " if y>0:\n",
        "print(\"II\")\n",
        "else:\n",
        " print(\"III\")"
      ],
      "execution_count": 28,
      "outputs": [
        {
          "output_type": "error",
          "ename": "SyntaxError",
          "evalue": "ignored",
          "traceback": [
            "\u001b[0;36m  File \u001b[0;32m\"<ipython-input-28-1115b36d3010>\"\u001b[0;36m, line \u001b[0;32m10\u001b[0m\n\u001b[0;31m    else:x<0:\u001b[0m\n\u001b[0m       ^\u001b[0m\n\u001b[0;31mSyntaxError\u001b[0m\u001b[0;31m:\u001b[0m invalid syntax\n"
          ]
        }
      ]
    }
  ]
}